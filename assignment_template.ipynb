{
  "nbformat": 4,
  "nbformat_minor": 0,
  "metadata": {
    "kernelspec": {
      "display_name": "Python 3",
      "language": "python",
      "name": "python3"
    },
    "language_info": {
      "codemirror_mode": {
        "name": "ipython",
        "version": 3
      },
      "file_extension": ".py",
      "mimetype": "text/x-python",
      "name": "python",
      "nbconvert_exporter": "python",
      "pygments_lexer": "ipython3",
      "version": "3.7.1"
    },
    "toc": {
      "base_numbering": 1,
      "nav_menu": {},
      "number_sections": true,
      "sideBar": true,
      "skip_h1_title": false,
      "title_cell": "Table of Contents",
      "title_sidebar": "Contents",
      "toc_cell": false,
      "toc_position": {},
      "toc_section_display": true,
      "toc_window_display": true
    },
    "colab": {
      "name": "Assigment_Jose.ipynb",
      "provenance": [],
      "include_colab_link": true
    }
  },
  "cells": [
    {
      "cell_type": "markdown",
      "metadata": {
        "id": "view-in-github",
        "colab_type": "text"
      },
      "source": [
        "<a href=\"https://colab.research.google.com/github/jsameijeiras/applied_ecomics_assigment/blob/main/Assigment_Jose.ipynb\" target=\"_parent\"><img src=\"https://colab.research.google.com/assets/colab-badge.svg\" alt=\"Open In Colab\"/></a>"
      ]
    },
    {
      "cell_type": "code",
      "metadata": {
        "id": "04M_l3_8fN5m"
      },
      "source": [
        "NAME = \"Wealth inequality and information\"\n",
        "COLLABORATORS = \"Jose Ramón Sánchez Ameijeiras\""
      ],
      "execution_count": null,
      "outputs": []
    },
    {
      "cell_type": "markdown",
      "metadata": {
        "id": "hDzqD3DHfN5x"
      },
      "source": [
        "---"
      ]
    },
    {
      "cell_type": "markdown",
      "metadata": {
        "id": "eVG-BUWCfN5x"
      },
      "source": [
        "# Python assignment\n",
        "\n",
        "|Name|SNR|ANR|\n",
        "|----|---|----|\n",
        "|Jose S. Ameijeiras|2065758|u205461|\n",
        "\n",
        "\n"
      ]
    },
    {
      "cell_type": "markdown",
      "metadata": {
        "id": "eIKvfmnsfN5x"
      },
      "source": [
        "# Research question (0.5 points)\n"
      ]
    },
    {
      "cell_type": "markdown",
      "metadata": {
        "deletable": false,
        "nbgrader": {
          "checksum": "b350c3082e112a5b2f1f6db0481fa5bd",
          "grade": true,
          "grade_id": "cell-7a61a5e9e6991ff4",
          "locked": false,
          "points": 0.5,
          "schema_version": 1,
          "solution": true
        },
        "id": "QVJVuEL9fN5y"
      },
      "source": [
        "- How does the asymmetric information affect the distribution of wealth?"
      ]
    },
    {
      "cell_type": "markdown",
      "metadata": {
        "id": "9sry-7FxfN5y"
      },
      "source": [
        "# Motivation (0.5 points)"
      ]
    },
    {
      "cell_type": "markdown",
      "metadata": {
        "deletable": false,
        "nbgrader": {
          "checksum": "ab93f4d26eb3e0bcf88927ee71df6b63",
          "grade": true,
          "grade_id": "cell-3d71712c92143820",
          "locked": false,
          "points": 0.5,
          "schema_version": 1,
          "solution": true
        },
        "id": "TzvXcu27fN5y"
      },
      "source": [
        "In 1970, Akerloff published the well-known proposal of the disappearing of markets under asymmetric information. Under certain conditions, among which are market-clearing, asymmetric information and rationality of the individuals, Akerlof shows that some markets disappear given that agents are not able to differentiate between high quality and low-quality goods. Due to their inability to differentiate, agents have negative expected returns in the case of trade and rationally decide not to trade, ending up in sub-optimal equilibrium.\n",
        "\n",
        "On parallel to Akerfof, Thomas Schelling would published his Dynamic Models of Segregation, which is considered one of the first agent based modelling in concept. Later on, with the development of technology this models where feasible in computers. This models allow for the possibility of simulating reality out of simple rules that we provide to the agents. Indeed, the idea is to create a model where we provide to the agents with a certain policy or behaviour and they act with the enviourement given.\n",
        "\n",
        "Agent Based Modelling has several advantages in contrast to the traditional modelling we have in economics, first of all is not deterministic since it is not equilibrium focused, thus it looks for understanding the dynamics. This is possible because the simulations created with the ABMs, allows us to spot the dynamics in every step of the simulation. \n",
        "\n",
        "Thus, the project proposal is to build a ABM to study the effect of information in a given market. Since the traditional adverse selection problem is the Akerlof market for lemons, inspiration has been taken from its model. However, the main focus here would be to understand the effect of information in inequality and the dynamics behind.\n"
      ]
    },
    {
      "cell_type": "markdown",
      "metadata": {
        "id": "XjjZETVTfN5z"
      },
      "source": [
        "# Method (0.5 points)\n",
        "\n",
        "As stated before the model is an agent based model where agents are either buyers or sellers of second hand cars. It starts with initial values, among which is the velocity of the spread of the news, the amount of money in the wallet, the proportions of buyers and the proportion of goods. The agents are positioned in a board similar to a chess board, where they move randomly and interact with each other in case of being in the same cell. At every step of the simulation agents interact among themselves according to a given rules.\n",
        "\n",
        "## 1. The agents\n",
        "In this simplified economy, sellers are willing to sell if they have a car if the price is bigger or equal than 1 monetary unit. Buyers are willing to buy always. However their bid depends on the fact that they have information or not. If they are informed they take the rational decision of paying to the seller 1 monetary unit for buying the car and they only buy a car of high quality. When buyers do not have information then they need to guess the price and give a random bid, between 0 and their maximum monetary value. This can be interpreted as they are always willing to buy but their bid will be more likely to win as they are richer. \n",
        "\n",
        "In addition to this, agents can be cooperative or not cooperative. Cooperative agents share information with their peers. The opposite is true for non cooperative, who just keep the information for themselves.\n",
        "\n",
        "## 2. The information\n",
        "The information is a binary variable, agents know or do not know. It can be understand as the capacity of differienting a high quality from a low quality car. In the first step of the model two random agents are provided with information and in every step they provide with information to their neighbour agents. Once the agent acquires the knowledge it cannot loose and it can transfer to others.\n",
        "\n",
        "## 3. The goods\n",
        "\n",
        "The good traded in this economy are cars, they can be high quality or low quality cars, also known as lemons. High quality cars have a monetary value of 1 while low quality cars have a monetary value of 0.\n",
        "\n",
        "## 4. Utility.\n",
        "\n",
        "Utility of buyers is:\n",
        "\n",
        "$U_b = M + \\frac{3}{2} CarValue$\n",
        "\n",
        "Utility of sellers is:\n",
        "\n",
        "$U_b = M + CarValue$\n",
        "\n",
        "Where,\n",
        "\n",
        "$M$ = Monetary units in the wallet\n",
        "\n",
        "Thus, we create a board where agents interact randomly with each other and provide each other with the opportunity of selling or buying a car. While the trading is happening the information about the lemons is spread reaching a point where everyone is able to understand what car is a lemon and which is not. As a result, we can analyse data resulting from the simulation.\n"
      ]
    },
    {
      "cell_type": "markdown",
      "metadata": {
        "deletable": false,
        "nbgrader": {
          "checksum": "84c7d0d85d8fb5e0073f3053f9bedf5a",
          "grade": true,
          "grade_id": "cell-8cbf4938fbebbb6e",
          "locked": false,
          "points": 0.5,
          "schema_version": 1,
          "solution": true
        },
        "id": "OtovzdLPfN5z"
      },
      "source": [
        ""
      ]
    },
    {
      "cell_type": "markdown",
      "metadata": {
        "id": "DUsHEH-2fN50"
      },
      "source": [
        "# Preview of the answers (0.5 points)\n",
        "\n",
        "Summarize the results that you find and the answer to your research question."
      ]
    },
    {
      "cell_type": "markdown",
      "metadata": {
        "deletable": false,
        "nbgrader": {
          "checksum": "938eb25dc709a2252d7013dc1cd8176a",
          "grade": true,
          "grade_id": "cell-1b3df4385bba508d",
          "locked": false,
          "points": 0.5,
          "schema_version": 1,
          "solution": true
        },
        "id": "OROlEEPrfN50"
      },
      "source": [
        "As a result of this model and after 20 iterations for 10 different values on the proportion of cooperative individuals with 200 steps per iteration we observe that inequality between uninformed groups  informed groups do not differ that much. However as more individuals cooperate the gini coefficient increases until reaching its maximum when half of the population cooperate, after that we observe how it decreases until reaching the point where there are no cooperative agents. \n",
        "\n",
        "This is understandable since, in the first scenario the agents are behaving completly irrational and thus the wealth is redistributed out of random behaviour. However when a few have information they get advantage and increase their welfare. As the ones having this information increases the society reaches a lower gini index.\n"
      ]
    },
    {
      "cell_type": "markdown",
      "metadata": {
        "id": "dEaIu63AfN50"
      },
      "source": [
        "# Main assumptions (0.5 points)"
      ]
    },
    {
      "cell_type": "markdown",
      "metadata": {
        "deletable": false,
        "nbgrader": {
          "checksum": "2e95c3f2ef005a63968a0ade420f5af7",
          "grade": true,
          "grade_id": "cell-d84f19967b2baa1d",
          "locked": false,
          "points": 0.5,
          "schema_version": 1,
          "solution": true
        },
        "id": "rVXIHVvFfN51"
      },
      "source": [
        "- Agents are rational in their behaviour when they have information and behave randomly when they do not.\n",
        "- Information is fully and without cost transferable.\n",
        "- Sellers are willing to sell in case of possessing a car\n",
        "- Buyers are willing to buy if they do not have a car.\n"
      ]
    },
    {
      "cell_type": "markdown",
      "metadata": {
        "id": "ZBNU28pWfN51"
      },
      "source": [
        "# Python code (6.5 points)\n",
        "\n",
        "\n",
        "Give the python code in code cells and use markdown cells to explain why you code things in this way and what the outcomes are of the code cells.\n",
        "\n",
        "Note that the explanation of your code is at least as important as the python code itself.\n",
        "\n",
        "Create as many python and markdown cells as you need to explain things well.\n"
      ]
    },
    {
      "cell_type": "markdown",
      "metadata": {
        "id": "PKlhCKOnfN51"
      },
      "source": [
        "For creating the model described above the Mesa package is used. Mesa is an open source pacakage that allows to create agent based models with python. In addition to it, the libaries numpy, pandas and matplotlib are loaded since they will be used afterwords. Also the native packages of random and sys will be used. "
      ]
    },
    {
      "cell_type": "code",
      "metadata": {
        "id": "T2MAQzbPfN52"
      },
      "source": [
        "from mesa import Agent, Model\n",
        "from mesa.time import RandomActivation\n",
        "from mesa.datacollection import DataCollector\n",
        "from mesa.space import MultiGrid\n",
        "from mesa.batchrunner import BatchRunner\n",
        "\n",
        "import random\n",
        "import sys\n",
        "import matplotlib.pyplot as plt\n",
        "import pandas as pd\n",
        "import numpy as np"
      ],
      "execution_count": null,
      "outputs": []
    },
    {
      "cell_type": "markdown",
      "metadata": {
        "id": "sZIQMvhyfN52"
      },
      "source": [
        "One important part of the Mesa package is that it requires us to create classes with the Agent and the Model. In the next lines, the agent is created, with it, the initial variables are created as well as the functions that will describe the behaviour of the agent. The functions are defined here:\n",
        " \n",
        "- The function *spread_news*: describes the way the knowledge is spread the agents looks for the squares around himself looking for other agents if he finds more than one it chooses one and with a 30% chance the receiver stores the knowledge.\n",
        "- The function *do_business*: describes the logic of the agents when trading. It can be read as if agent A is a buyer and the agent he meets in your cell is a seller then two option are possible:\n",
        "  - First option, the agent has information then it just exchanges money for a high-quality car, his empty object self.car is transferred to the other agent, a monetary unit is substracted from him and it is added to the other agent. \n",
        "  - Second option, the agent does not have information and thus it chooses to bid a random number (self.random.randint) between 0 and the money in his wallet. If the bid is larger than one monetary unit, the price of the car, then the seller accepts, however, the car can be a lemon or not.\n",
        "- The function *move*: defines the way in which the agent’s move through the board. In this case is random.\n",
        "- The function *calculate_utility*: allows to calculate the utility of the agents given if they are seller, type == 0 or buyers type == 1\n",
        "- The function *step*: is basic for the correct behaviour of the package Mesa and it describes the order of the steps and when are they applicable. In here, it is described the differences between cooperative and non-cooperative agents. If the infotype==1 then apply the function, *spread_news*\n"
      ]
    },
    {
      "cell_type": "code",
      "metadata": {
        "deletable": false,
        "nbgrader": {
          "checksum": "3dd4c02198f7b81f943268cb3d0a12b2",
          "grade": true,
          "grade_id": "cell-a2231ee7e6d4e686",
          "locked": false,
          "points": 7,
          "schema_version": 1,
          "solution": true
        },
        "id": "nmCOxCwGfN52"
      },
      "source": [
        "class Agent(Agent):\n",
        "    \n",
        "    def __init__(self, unique_id, model, information_share_type, initial_buyers_sellers):\n",
        "        super().__init__(unique_id, model)\n",
        "        self.knowledge = 0\n",
        "        self.utility = 0\n",
        "        self.wallet = self.random.randint(1, 10) #Amount in the wallet\n",
        "        self.infotype = information_share_type #Cooperative vs non cooperative\n",
        "        self.type = initial_buyers_sellers # Amount of buyers vs sellers\n",
        "        self.speed_spread = 0.3 #self.random.randint(0, 1)\n",
        "        if random.random() <0.5:\n",
        "            self.car = self.random.randint(0, 1)\n",
        "        else:\n",
        "            self.car = None\n",
        "            \n",
        "    def spread_news(self):\n",
        "        \"\"\" Knowledge is spread as a virus, the people around\n",
        "        yourself is likely to tell you about it. You acquire it \n",
        "        or not, and that is likely in 30% of the cases. When you have\n",
        "        knowledge that changes your behaviour because you are able \n",
        "        to indentify proper opportunities, and you behave as a rational\n",
        "        agent, knowing exactly the value of the good in front of you. \n",
        "        When this is not the case, you behave irrationally according to \n",
        "        the economic standards since you just make a bet on the car or \n",
        "        not.\"\"\"\n",
        "        if self.knowledge == 0:\n",
        "            return\n",
        "        neighbors = self.model.grid.get_neighbors(self.pos,moore = False,\n",
        "                                                  include_center=True)\n",
        "        neig_agents = [a for n in neighbors for a in self.model.grid.get_cell_list_contents(n.pos)]\n",
        "        for a in neig_agents:\n",
        "            if self.random.random()<self.speed_spread:\n",
        "                a.knowledge = 1\n",
        "                 \n",
        "    def do_business(self):\n",
        "        cellmates = self.model.grid.get_cell_list_contents([self.pos])\n",
        "        if len(cellmates) > 1:\n",
        "            other = self.random.choice(cellmates)\n",
        "             #Willing to trade and the other has a car\n",
        "            if self.type == 1 and other.car is not None:\n",
        "                '''When the type of agent gets better from having a car\n",
        "                and the other guy is willing to sell, there is opportunity\n",
        "                to sell'''\n",
        "                #Willing to sell and the agent doesn't have a car\n",
        "                if other.type == 0 and self.car: \n",
        "                    if self.knowledge == 1:\n",
        "                        if other.car == 1:\n",
        "                            self.wallet -= 1\n",
        "                            old_car = self.car\n",
        "                            self.car = other.car\n",
        "                            other.wallet += 1\n",
        "                            other.car = old_car\n",
        "                    else:\n",
        "                        bid = self.random.randint(0, self.wallet)\n",
        "                        if bid >= 1 and bid < self.wallet:\n",
        "                            self.wallet -= bid\n",
        "                            old_car = self.car\n",
        "                            self.car = other.car\n",
        "                            other.wallet += bid\n",
        "                            other.car = old_car\n",
        "                        return\n",
        "                        \n",
        "                    \n",
        "    def move(self):\n",
        "        possible_steps = self.model.grid.get_neighborhood(\n",
        "            self.pos,\n",
        "            moore=True,\n",
        "            include_center=False)\n",
        "        new_position = self.random.choice(possible_steps)\n",
        "        self.model.grid.move_agent(self, new_position)\n",
        "        \n",
        "    def calculate_utility(self):\n",
        "        \"\"\" Different agents have different utilities if \n",
        "        they want cars they multiply the value of the car by \n",
        "        3/2 if not they just account for the amount of money they\n",
        "        can sell it. If the car is a lemon they receive 0 valuation, \n",
        "        thus 0 utility from it.\"\"\"\n",
        "        if self.type == 1: \n",
        "            self.utility = self.wallet + 1.5*self.car if self.car is not None else self.wallet\n",
        "        elif self.type == 0:\n",
        "            self.utility = self.wallet + 1*self.car if self.car is not None else self.wallet    \n",
        "        \n",
        "    def step(self):\n",
        "        self.move()      \n",
        "        if self.wallet > 0:\n",
        "            self.do_business()\n",
        "\n",
        "        if self.infotype == 1:\n",
        "            self.spread_news()\n",
        "            \n",
        "        self.calculate_utility()\n",
        "        "
      ],
      "execution_count": null,
      "outputs": []
    },
    {
      "cell_type": "markdown",
      "metadata": {
        "id": "ucyTj9asfN53"
      },
      "source": [
        "In the next chunk of code is defined as an essential piece of the simulation which is the class news model. This is the engine of the simulation, in there we the initial variables are defined, which are N the number of agents, the size of the board where the agents interact and the creation of the agents.\n",
        " \n",
        "Notice that the creation of the agents add two conditions; the number of buyers and the quantity of cooperative individuals. In addition to this, and taking advantage of the Mesa package, the data collector is used. This function allows us to determine the metrics that we want to measure in an individual and aggregated level. \n",
        " \n",
        "The functions that we have previously to the definition of the class *News_Model* are the ones needed to compute the different metrics that we want to measure in every step:\n",
        " - The Gini coefficient,\n",
        " - The utility understood as the aggregated utility\n",
        " - The wealth as the sum of the monetary units in every agent’s wallet.\n",
        " - The number of proper cars\n",
        " - The number of lemons\n",
        " - The number of informed agents."
      ]
    },
    {
      "cell_type": "code",
      "metadata": {
        "id": "tr4YPHTufN53"
      },
      "source": [
        "#let's define a function which is able to count, at each step, how #many agents are aware of the product\n",
        "def compute_informed(model):\n",
        "    return  sum([1 for a in model.schedule.agents if a.knowledge == 1])\n",
        "\n",
        "def compute_lemons(model):\n",
        "    return  sum([1 for a in model.schedule.agents if a.car == 0])\n",
        "\n",
        "def compute_cars(model):\n",
        "    return  sum([1 for a in model.schedule.agents if a.car == 1])\n",
        "\n",
        "\n",
        "def compute_wealth(model):\n",
        "    return  sum([a.wallet for a in model.schedule.agents])\n",
        "\n",
        "def compute_utility(model):\n",
        "    return sum([a.utility for a in model.schedule.agents])\n",
        "\n",
        "def compute_gini(model):\n",
        "    '''This is a formula that I extracted from the mesa documentation'''\n",
        "    agent_wealths = [agent.wallet for agent in model.schedule.agents]\n",
        "    x = sorted(agent_wealths)\n",
        "    N = model.num_agents\n",
        "    B = sum( xi * (N-i) for i,xi in enumerate(x) ) / (N*sum(x))\n",
        "    return (1 + (1/N) - 2*B)\n",
        "\n",
        "class News_Model(Model):\n",
        "    def __init__(self, N, width, height, cooperative, buyers_proportion):\n",
        "        self.num_agents = N\n",
        "        self.grid = MultiGrid(width, height, True)\n",
        "        self.schedule = RandomActivation(self)\n",
        "        self.running = True\n",
        "        self.cooperative = cooperative\n",
        "        self.buyers_proportion = buyers_proportion\n",
        "        #self.speed_spread = speed_spread\n",
        "        #self.initial_wallet = initial_wallet\n",
        "\n",
        "\n",
        "        # Create agents\n",
        "        for i in range(self.num_agents):\n",
        "            if self.random.random() < self.buyers_proportion:\n",
        "                information_share_type = 1\n",
        "            else:\n",
        "                information_share_type = 0\n",
        "\n",
        "            if self.random.random() < self.cooperative:\n",
        "                initial_buyers_sellers = 1\n",
        "            else:\n",
        "                initial_buyers_sellers = 0\n",
        "        \n",
        "            #initial_wallet = self.initial_wallet\n",
        "            #speed_spread = self.speed_spread \n",
        "            a = Agent(i, self, information_share_type, initial_buyers_sellers)\n",
        "            self.schedule.add(a)\n",
        "            x = self.random.randrange(self.grid.width)\n",
        "            y = self.random.randrange(self.grid.height)\n",
        "            self.grid.place_agent(a, (x, y))\n",
        "            #Two random agents are initially informed\n",
        "            l = [self.random.randint(0, N),self.random.randint(0, N)]\n",
        "            if i in l: #only one agent is informed\n",
        "                a.knowledge = 1\n",
        "        \n",
        "        #Create metrics for further analysis\n",
        "        self.datacollector = DataCollector(\n",
        "            model_reporters = {\"Informed Agents\": compute_informed,\n",
        "                              \"Gini\": compute_gini,\n",
        "                              \"Wealth\": compute_wealth,\n",
        "                              \"Utility\": compute_utility,\n",
        "                              \"Lemons\": compute_lemons,\n",
        "                              \"Cars\": compute_cars},\n",
        "            agent_reporters={\"Knowledge\": \"knowledge\",\n",
        "                             \"Utility\": \"utility\",\n",
        "                             \"Car Type\": \"car\",\n",
        "                             \"Agent type\": \"type\",\n",
        "                             \"Wealth\": \"wallet\"})\n",
        "    def step(self):\n",
        "        self.datacollector.collect(self)\n",
        "        self.schedule.step()"
      ],
      "execution_count": null,
      "outputs": []
    },
    {
      "cell_type": "markdown",
      "metadata": {
        "id": "o9iG8MkDfN54"
      },
      "source": [
        "For a first observation of the model and its behaviour one simulation with 365 iterations is run."
      ]
    },
    {
      "cell_type": "code",
      "metadata": {
        "id": "vZKTfiWjfN54"
      },
      "source": [
        "model = News_Model(50, 10, 10,  cooperative = 0.9, buyers_proportion = 0.5)\n",
        "for i in range(365):\n",
        "    model.step()"
      ],
      "execution_count": null,
      "outputs": []
    },
    {
      "cell_type": "markdown",
      "metadata": {
        "id": "cMMknPCwfN54"
      },
      "source": [
        "As a result we have gather information described above and we had it store it in a pandas dataframe."
      ]
    },
    {
      "cell_type": "code",
      "metadata": {
        "id": "xCFAEbStfN54",
        "outputId": "7cca7678-092e-4ca2-caea-7f6fa9f0f1c1"
      },
      "source": [
        "model.datacollector.get_agent_vars_dataframe()"
      ],
      "execution_count": null,
      "outputs": [
        {
          "output_type": "execute_result",
          "data": {
            "text/html": [
              "<div>\n",
              "<style scoped>\n",
              "    .dataframe tbody tr th:only-of-type {\n",
              "        vertical-align: middle;\n",
              "    }\n",
              "\n",
              "    .dataframe tbody tr th {\n",
              "        vertical-align: top;\n",
              "    }\n",
              "\n",
              "    .dataframe thead th {\n",
              "        text-align: right;\n",
              "    }\n",
              "</style>\n",
              "<table border=\"1\" class=\"dataframe\">\n",
              "  <thead>\n",
              "    <tr style=\"text-align: right;\">\n",
              "      <th></th>\n",
              "      <th></th>\n",
              "      <th>Knowledge</th>\n",
              "      <th>Utility</th>\n",
              "      <th>Car Type</th>\n",
              "      <th>Agent type</th>\n",
              "      <th>Wealth</th>\n",
              "    </tr>\n",
              "    <tr>\n",
              "      <th>Step</th>\n",
              "      <th>AgentID</th>\n",
              "      <th></th>\n",
              "      <th></th>\n",
              "      <th></th>\n",
              "      <th></th>\n",
              "      <th></th>\n",
              "    </tr>\n",
              "  </thead>\n",
              "  <tbody>\n",
              "    <tr>\n",
              "      <th rowspan=\"5\" valign=\"top\">0</th>\n",
              "      <th>0</th>\n",
              "      <td>0</td>\n",
              "      <td>0.0</td>\n",
              "      <td>0.0</td>\n",
              "      <td>0</td>\n",
              "      <td>6</td>\n",
              "    </tr>\n",
              "    <tr>\n",
              "      <th>1</th>\n",
              "      <td>0</td>\n",
              "      <td>0.0</td>\n",
              "      <td>1.0</td>\n",
              "      <td>1</td>\n",
              "      <td>8</td>\n",
              "    </tr>\n",
              "    <tr>\n",
              "      <th>2</th>\n",
              "      <td>0</td>\n",
              "      <td>0.0</td>\n",
              "      <td>NaN</td>\n",
              "      <td>1</td>\n",
              "      <td>6</td>\n",
              "    </tr>\n",
              "    <tr>\n",
              "      <th>3</th>\n",
              "      <td>0</td>\n",
              "      <td>0.0</td>\n",
              "      <td>NaN</td>\n",
              "      <td>1</td>\n",
              "      <td>6</td>\n",
              "    </tr>\n",
              "    <tr>\n",
              "      <th>4</th>\n",
              "      <td>0</td>\n",
              "      <td>0.0</td>\n",
              "      <td>NaN</td>\n",
              "      <td>1</td>\n",
              "      <td>5</td>\n",
              "    </tr>\n",
              "    <tr>\n",
              "      <th>...</th>\n",
              "      <th>...</th>\n",
              "      <td>...</td>\n",
              "      <td>...</td>\n",
              "      <td>...</td>\n",
              "      <td>...</td>\n",
              "      <td>...</td>\n",
              "    </tr>\n",
              "    <tr>\n",
              "      <th rowspan=\"5\" valign=\"top\">364</th>\n",
              "      <th>45</th>\n",
              "      <td>1</td>\n",
              "      <td>6.0</td>\n",
              "      <td>NaN</td>\n",
              "      <td>1</td>\n",
              "      <td>6</td>\n",
              "    </tr>\n",
              "    <tr>\n",
              "      <th>46</th>\n",
              "      <td>1</td>\n",
              "      <td>6.0</td>\n",
              "      <td>NaN</td>\n",
              "      <td>0</td>\n",
              "      <td>6</td>\n",
              "    </tr>\n",
              "    <tr>\n",
              "      <th>47</th>\n",
              "      <td>1</td>\n",
              "      <td>9.0</td>\n",
              "      <td>NaN</td>\n",
              "      <td>1</td>\n",
              "      <td>9</td>\n",
              "    </tr>\n",
              "    <tr>\n",
              "      <th>48</th>\n",
              "      <td>1</td>\n",
              "      <td>9.0</td>\n",
              "      <td>0.0</td>\n",
              "      <td>1</td>\n",
              "      <td>9</td>\n",
              "    </tr>\n",
              "    <tr>\n",
              "      <th>49</th>\n",
              "      <td>1</td>\n",
              "      <td>4.5</td>\n",
              "      <td>1.0</td>\n",
              "      <td>1</td>\n",
              "      <td>3</td>\n",
              "    </tr>\n",
              "  </tbody>\n",
              "</table>\n",
              "<p>18250 rows × 5 columns</p>\n",
              "</div>"
            ],
            "text/plain": [
              "              Knowledge  Utility  Car Type  Agent type  Wealth\n",
              "Step AgentID                                                  \n",
              "0    0                0      0.0       0.0           0       6\n",
              "     1                0      0.0       1.0           1       8\n",
              "     2                0      0.0       NaN           1       6\n",
              "     3                0      0.0       NaN           1       6\n",
              "     4                0      0.0       NaN           1       5\n",
              "...                 ...      ...       ...         ...     ...\n",
              "364  45               1      6.0       NaN           1       6\n",
              "     46               1      6.0       NaN           0       6\n",
              "     47               1      9.0       NaN           1       9\n",
              "     48               1      9.0       0.0           1       9\n",
              "     49               1      4.5       1.0           1       3\n",
              "\n",
              "[18250 rows x 5 columns]"
            ]
          },
          "metadata": {
            "tags": []
          },
          "execution_count": 6
        }
      ]
    },
    {
      "cell_type": "code",
      "metadata": {
        "id": "fxfhaAxefN55",
        "outputId": "3758cad7-a770-4b58-d759-df56bfd99fa3"
      },
      "source": [
        "gini = model.datacollector.get_model_vars_dataframe()[[\"Gini\"]]\n",
        "wealth = model.datacollector.get_model_vars_dataframe()[[\"Wealth\"]]\n",
        "utility = model.datacollector.get_model_vars_dataframe()[[\"Utility\"]]\n",
        "Total_Informed = model.datacollector.get_model_vars_dataframe()[[\"Informed Agents\"]]\n",
        "cars = model.datacollector.get_model_vars_dataframe()[[\"Cars\"]]\n",
        "lemons = model.datacollector.get_model_vars_dataframe()[[\"Lemons\"]]\n",
        "wealth.plot()\n",
        "utility.plot()\n",
        "gini.plot()\n",
        "Total_Informed.plot()\n",
        "cars.plot()\n",
        "lemons.plot()"
      ],
      "execution_count": null,
      "outputs": [
        {
          "output_type": "execute_result",
          "data": {
            "text/plain": [
              "<matplotlib.axes._subplots.AxesSubplot at 0x7f5aa4ff04a8>"
            ]
          },
          "metadata": {
            "tags": []
          },
          "execution_count": 7
        },
        {
          "output_type": "display_data",
          "data": {
            "image/png": "[encoded data removed]",
            "text/plain": [
              "<Figure size 432x288 with 1 Axes>"
            ]
          },
          "metadata": {
            "tags": [],
            "needs_background": "light"
          }
        },
        {
          "output_type": "display_data",
          "data": {
            "image/png": "[encoded data removed]",
            "text/plain": [
              "<Figure size 432x288 with 1 Axes>"
            ]
          },
          "metadata": {
            "tags": [],
            "needs_background": "light"
          }
        },
        {
          "output_type": "display_data",
          "data": {
            "image/png": "[encoded data removed]",
            "text/plain": [
              "<Figure size 432x288 with 1 Axes>"
            ]
          },
          "metadata": {
            "tags": [],
            "needs_background": "light"
          }
        },
        {
          "output_type": "display_data",
          "data": {
            "image/png": "[encoded data removed]",
            "text/plain": [
              "<Figure size 432x288 with 1 Axes>"
            ]
          },
          "metadata": {
            "tags": [],
            "needs_background": "light"
          }
        },
        {
          "output_type": "display_data",
          "data": {
            "image/png": "[encoded data removed]",
            "text/plain": [
              "<Figure size 432x288 with 1 Axes>"
            ]
          },
          "metadata": {
            "tags": [],
            "needs_background": "light"
          }
        },
        {
          "output_type": "display_data",
          "data": {
            "image/png": "[encoded data removed]",
            "text/plain": [
              "<Figure size 432x288 with 1 Axes>"
            ]
          },
          "metadata": {
            "tags": [],
            "needs_background": "light"
          }
        }
      ]
    },
    {
      "cell_type": "markdown",
      "metadata": {
        "id": "eXIXUT7pfN56"
      },
      "source": [
        "These graphs start to show us that the information is spread subsequently fast, in just 40 iterations we reach the maximum, but the Gini coefficient grows as well with it. Additionally, we see that the number of proper cars and lemons are constant, as designed, and the wealth varies a bit after the first iterations but the monetary amount in the market is also constant as designed. Notice we are in a zero-sum game. \n",
        " \n",
        "Also, we can analyse where are the agents positioned in the map, and how is the wealth distribution in the map."
      ]
    },
    {
      "cell_type": "code",
      "metadata": {
        "id": "dHdH9cwwfN56",
        "outputId": "c2d249cf-2f5c-4243-dcb3-96025c862760"
      },
      "source": [
        "'''Code from the Mesa Documentation'''\n",
        "agent_counts = np.zeros((model.grid.width, model.grid.height))\n",
        "for cell in model.grid.coord_iter():\n",
        "    cell_content, x, y = cell\n",
        "    agent_count = len(cell_content)\n",
        "    agent_counts[x][y] = agent_count\n",
        "plt.imshow(agent_counts, interpolation='nearest')\n",
        "plt.colorbar()"
      ],
      "execution_count": null,
      "outputs": [
        {
          "output_type": "execute_result",
          "data": {
            "text/plain": [
              "<matplotlib.colorbar.Colorbar at 0x7f5aa4e06b00>"
            ]
          },
          "metadata": {
            "tags": []
          },
          "execution_count": 8
        },
        {
          "output_type": "display_data",
          "data": {
            "image/png": "[encoded data removed]",
            "text/plain": [
              "<Figure size 432x288 with 2 Axes>"
            ]
          },
          "metadata": {
            "tags": [],
            "needs_background": "light"
          }
        }
      ]
    },
    {
      "cell_type": "markdown",
      "metadata": {
        "id": "Q4irgkXHfN56"
      },
      "source": [
        "# Running multiple batches\r\n",
        " \r\n",
        "One of the most interesting possibilities of simulation and especially of the Mesa package is to run several different simulations one after the other varying the metrics of study. This is done like this, creating two dictionaries with the fixed parameters and the variable ones. In our case, we want to check for how the cooperative individuals affect and their share of information affect the wealth distribution and aggregated utility. Also, we want to check that varying the buyer’s proportion does not affect as a part of the next section with our sensitivity analysis.\r\n"
      ]
    },
    {
      "cell_type": "code",
      "metadata": {
        "id": "LvMB7rg5fN56"
      },
      "source": [
        "from mesa.batchrunner import BatchRunner\n",
        "\n",
        "\n",
        "fixed_params = {\"height\": 10, \"width\": 10, \"N\": 50, \"buyers_proportion\": 0.5} \n",
        "variable_parms = {\"cooperative\": np.linspace(0,1,11), \n",
        "                  #\"initial_wallet\": range(1,5),\n",
        "                  #\"speed_spread\": np.linspace(0,1,2),\n",
        "                  #\"buyers_proportion\": np.linspace(0.1,0.5,2)\n",
        "                 }"
      ],
      "execution_count": null,
      "outputs": []
    },
    {
      "cell_type": "code",
      "metadata": {
        "id": "GhEo236WfN56"
      },
      "source": [
        "model_reporters = {\"Totinformed\": compute_informed,\n",
        "                              \"Gini\": compute_gini,\n",
        "                              \"Wealth\": compute_wealth,\n",
        "                              \"Utility\": compute_utility,\n",
        "                              \"Lemons\": compute_lemons,\n",
        "                              \"Cars\": compute_cars}\n",
        "param_sweep = BatchRunner(News_Model,\n",
        "                          variable_parameters=variable_parms, fixed_parameters=fixed_params,\n",
        "                          iterations=10, \n",
        "                          max_steps=200,\n",
        "                          model_reporters=model_reporters)"
      ],
      "execution_count": null,
      "outputs": []
    },
    {
      "cell_type": "code",
      "metadata": {
        "id": "L3tvZqmofN56",
        "outputId": "0a580e88-aae9-4ce8-ee9c-8738cf8213a4"
      },
      "source": [
        "param_sweep.run_all()"
      ],
      "execution_count": null,
      "outputs": [
        {
          "output_type": "stream",
          "text": [
            "110it [01:24,  1.31it/s]\n"
          ],
          "name": "stderr"
        }
      ]
    },
    {
      "cell_type": "markdown",
      "metadata": {
        "id": "lFvDEJadfN57"
      },
      "source": [
        "After collecting the data out of 110 iterations varying the number of cooperative agents a proper amount of data is collected to start observing the dynamic of the information and the Gini coefficient.\r\n",
        " \r\n",
        "As introduced, with the increase of cooperative agents there is an increase on the inequality however this reaches its maximum at 70% of the agents being cooperative after that threshold, the more agents cooperate the smaller is the inequality among agents.\r\n",
        " \r\n",
        "However, the robustness of the results is still untested. Indeed, several other simulations run before provided results closer to a peak when 50% of the agents are cooperative.\r\n"
      ]
    },
    {
      "cell_type": "code",
      "metadata": {
        "id": "j1sL_e0UfN57",
        "outputId": "2b8ab3e4-3596-490b-96e5-1b22c0d2ea06"
      },
      "source": [
        "df = param_sweep.get_model_vars_dataframe()\n",
        "df"
      ],
      "execution_count": null,
      "outputs": [
        {
          "output_type": "execute_result",
          "data": {
            "text/html": [
              "<div>\n",
              "<style scoped>\n",
              "    .dataframe tbody tr th:only-of-type {\n",
              "        vertical-align: middle;\n",
              "    }\n",
              "\n",
              "    .dataframe tbody tr th {\n",
              "        vertical-align: top;\n",
              "    }\n",
              "\n",
              "    .dataframe thead th {\n",
              "        text-align: right;\n",
              "    }\n",
              "</style>\n",
              "<table border=\"1\" class=\"dataframe\">\n",
              "  <thead>\n",
              "    <tr style=\"text-align: right;\">\n",
              "      <th></th>\n",
              "      <th>cooperative</th>\n",
              "      <th>Run</th>\n",
              "      <th>Cars</th>\n",
              "      <th>Gini</th>\n",
              "      <th>Lemons</th>\n",
              "      <th>Tot informed</th>\n",
              "      <th>Utility</th>\n",
              "      <th>Wealth</th>\n",
              "      <th>height</th>\n",
              "      <th>width</th>\n",
              "      <th>N</th>\n",
              "      <th>buyers_proportion</th>\n",
              "    </tr>\n",
              "  </thead>\n",
              "  <tbody>\n",
              "    <tr>\n",
              "      <th>0</th>\n",
              "      <td>0.0</td>\n",
              "      <td>0</td>\n",
              "      <td>14</td>\n",
              "      <td>0.278978</td>\n",
              "      <td>18</td>\n",
              "      <td>50</td>\n",
              "      <td>288.0</td>\n",
              "      <td>274</td>\n",
              "      <td>10</td>\n",
              "      <td>10</td>\n",
              "      <td>50</td>\n",
              "      <td>0.5</td>\n",
              "    </tr>\n",
              "    <tr>\n",
              "      <th>1</th>\n",
              "      <td>0.0</td>\n",
              "      <td>1</td>\n",
              "      <td>13</td>\n",
              "      <td>0.288000</td>\n",
              "      <td>10</td>\n",
              "      <td>50</td>\n",
              "      <td>303.0</td>\n",
              "      <td>290</td>\n",
              "      <td>10</td>\n",
              "      <td>10</td>\n",
              "      <td>50</td>\n",
              "      <td>0.5</td>\n",
              "    </tr>\n",
              "    <tr>\n",
              "      <th>2</th>\n",
              "      <td>0.0</td>\n",
              "      <td>2</td>\n",
              "      <td>9</td>\n",
              "      <td>0.290866</td>\n",
              "      <td>10</td>\n",
              "      <td>2</td>\n",
              "      <td>263.0</td>\n",
              "      <td>254</td>\n",
              "      <td>10</td>\n",
              "      <td>10</td>\n",
              "      <td>50</td>\n",
              "      <td>0.5</td>\n",
              "    </tr>\n",
              "    <tr>\n",
              "      <th>3</th>\n",
              "      <td>0.0</td>\n",
              "      <td>3</td>\n",
              "      <td>15</td>\n",
              "      <td>0.268333</td>\n",
              "      <td>13</td>\n",
              "      <td>50</td>\n",
              "      <td>303.0</td>\n",
              "      <td>288</td>\n",
              "      <td>10</td>\n",
              "      <td>10</td>\n",
              "      <td>50</td>\n",
              "      <td>0.5</td>\n",
              "    </tr>\n",
              "    <tr>\n",
              "      <th>4</th>\n",
              "      <td>0.0</td>\n",
              "      <td>4</td>\n",
              "      <td>11</td>\n",
              "      <td>0.294028</td>\n",
              "      <td>16</td>\n",
              "      <td>1</td>\n",
              "      <td>299.0</td>\n",
              "      <td>288</td>\n",
              "      <td>10</td>\n",
              "      <td>10</td>\n",
              "      <td>50</td>\n",
              "      <td>0.5</td>\n",
              "    </tr>\n",
              "    <tr>\n",
              "      <th>...</th>\n",
              "      <td>...</td>\n",
              "      <td>...</td>\n",
              "      <td>...</td>\n",
              "      <td>...</td>\n",
              "      <td>...</td>\n",
              "      <td>...</td>\n",
              "      <td>...</td>\n",
              "      <td>...</td>\n",
              "      <td>...</td>\n",
              "      <td>...</td>\n",
              "      <td>...</td>\n",
              "      <td>...</td>\n",
              "    </tr>\n",
              "    <tr>\n",
              "      <th>105</th>\n",
              "      <td>1.0</td>\n",
              "      <td>105</td>\n",
              "      <td>14</td>\n",
              "      <td>0.245537</td>\n",
              "      <td>10</td>\n",
              "      <td>50</td>\n",
              "      <td>328.0</td>\n",
              "      <td>307</td>\n",
              "      <td>10</td>\n",
              "      <td>10</td>\n",
              "      <td>50</td>\n",
              "      <td>0.5</td>\n",
              "    </tr>\n",
              "    <tr>\n",
              "      <th>106</th>\n",
              "      <td>1.0</td>\n",
              "      <td>106</td>\n",
              "      <td>17</td>\n",
              "      <td>0.330698</td>\n",
              "      <td>11</td>\n",
              "      <td>1</td>\n",
              "      <td>283.5</td>\n",
              "      <td>258</td>\n",
              "      <td>10</td>\n",
              "      <td>10</td>\n",
              "      <td>50</td>\n",
              "      <td>0.5</td>\n",
              "    </tr>\n",
              "    <tr>\n",
              "      <th>107</th>\n",
              "      <td>1.0</td>\n",
              "      <td>107</td>\n",
              "      <td>16</td>\n",
              "      <td>0.352991</td>\n",
              "      <td>10</td>\n",
              "      <td>50</td>\n",
              "      <td>258.0</td>\n",
              "      <td>234</td>\n",
              "      <td>10</td>\n",
              "      <td>10</td>\n",
              "      <td>50</td>\n",
              "      <td>0.5</td>\n",
              "    </tr>\n",
              "    <tr>\n",
              "      <th>108</th>\n",
              "      <td>1.0</td>\n",
              "      <td>108</td>\n",
              "      <td>19</td>\n",
              "      <td>0.286429</td>\n",
              "      <td>11</td>\n",
              "      <td>50</td>\n",
              "      <td>308.5</td>\n",
              "      <td>280</td>\n",
              "      <td>10</td>\n",
              "      <td>10</td>\n",
              "      <td>50</td>\n",
              "      <td>0.5</td>\n",
              "    </tr>\n",
              "    <tr>\n",
              "      <th>109</th>\n",
              "      <td>1.0</td>\n",
              "      <td>109</td>\n",
              "      <td>17</td>\n",
              "      <td>0.287985</td>\n",
              "      <td>9</td>\n",
              "      <td>0</td>\n",
              "      <td>288.5</td>\n",
              "      <td>263</td>\n",
              "      <td>10</td>\n",
              "      <td>10</td>\n",
              "      <td>50</td>\n",
              "      <td>0.5</td>\n",
              "    </tr>\n",
              "  </tbody>\n",
              "</table>\n",
              "<p>110 rows × 12 columns</p>\n",
              "</div>"
            ],
            "text/plain": [
              "     cooperative  Run  Cars      Gini  Lemons  Tot informed  Utility  Wealth  \\\n",
              "0            0.0    0    14  0.278978      18            50    288.0     274   \n",
              "1            0.0    1    13  0.288000      10            50    303.0     290   \n",
              "2            0.0    2     9  0.290866      10             2    263.0     254   \n",
              "3            0.0    3    15  0.268333      13            50    303.0     288   \n",
              "4            0.0    4    11  0.294028      16             1    299.0     288   \n",
              "..           ...  ...   ...       ...     ...           ...      ...     ...   \n",
              "105          1.0  105    14  0.245537      10            50    328.0     307   \n",
              "106          1.0  106    17  0.330698      11             1    283.5     258   \n",
              "107          1.0  107    16  0.352991      10            50    258.0     234   \n",
              "108          1.0  108    19  0.286429      11            50    308.5     280   \n",
              "109          1.0  109    17  0.287985       9             0    288.5     263   \n",
              "\n",
              "     height  width   N  buyers_proportion  \n",
              "0        10     10  50                0.5  \n",
              "1        10     10  50                0.5  \n",
              "2        10     10  50                0.5  \n",
              "3        10     10  50                0.5  \n",
              "4        10     10  50                0.5  \n",
              "..      ...    ...  ..                ...  \n",
              "105      10     10  50                0.5  \n",
              "106      10     10  50                0.5  \n",
              "107      10     10  50                0.5  \n",
              "108      10     10  50                0.5  \n",
              "109      10     10  50                0.5  \n",
              "\n",
              "[110 rows x 12 columns]"
            ]
          },
          "metadata": {
            "tags": []
          },
          "execution_count": 30
        }
      ]
    },
    {
      "cell_type": "code",
      "metadata": {
        "id": "x7ZGFMRLfN57",
        "outputId": "46cf7dbc-27ae-40ac-dc87-847c38b2a384"
      },
      "source": [
        "plt.scatter(df.cooperative, df.Gini)\n",
        "plt.grid(True)"
      ],
      "execution_count": null,
      "outputs": [
        {
          "output_type": "display_data",
          "data": {
            "image/png": "[encoded data removed]",
            "text/plain": [
              "<Figure size 432x288 with 1 Axes>"
            ]
          },
          "metadata": {
            "tags": [],
            "needs_background": "light"
          }
        }
      ]
    },
    {
      "cell_type": "markdown",
      "metadata": {
        "id": "at8T5Y1PfN57"
      },
      "source": [
        "# Sensitivity analysis (0.5 points)\n"
      ]
    },
    {
      "cell_type": "code",
      "metadata": {
        "id": "RnxnuptmfN57",
        "outputId": "8460d514-548e-43a5-efea-20522c749d00"
      },
      "source": [
        "from mesa.batchrunner import BatchRunner\n",
        "\n",
        "\n",
        "fixed_params = {\"height\": 20, \"width\": 20, \"N\": 50} \n",
        "variable_parms = {\"cooperative\": np.linspace(0,1,11), \n",
        "                  #\"initial_wallet\": range(1,5),\n",
        "                  #\"speed_spread\": np.linspace(0,1,2),\n",
        "                  \"buyers_proportion\": np.linspace(0.1,0.5,10)}\n",
        "\n",
        "model_reporters = {\"Totinformed\": compute_informed,\n",
        "                              \"Gini\": compute_gini,\n",
        "                              \"Wealth\": compute_wealth,\n",
        "                              \"Utility\": compute_utility,\n",
        "                              \"Lemons\": compute_lemons,\n",
        "                              \"Cars\": compute_cars}\n",
        "\n",
        "param_sweep = BatchRunner(News_Model,\n",
        "                          variable_parameters=variable_parms, fixed_parameters=fixed_params,\n",
        "                          iterations=10, \n",
        "                          max_steps=200,\n",
        "                          model_reporters=model_reporters)\n",
        "\n",
        "param_sweep.run_all()"
      ],
      "execution_count": null,
      "outputs": [
        {
          "output_type": "stream",
          "text": [
            "1000it [10:12,  1.63it/s]\n"
          ],
          "name": "stderr"
        }
      ]
    },
    {
      "cell_type": "code",
      "metadata": {
        "nbgrader": {
          "checksum": "3dd4c02198f7b81f943268cb3d0a12b2",
          "grade": true,
          "grade_id": "cell-a2231ee7e6d4e686",
          "locked": false,
          "points": 7,
          "schema_version": 1,
          "solution": true
        },
        "id": "BsLVxoYSfN58",
        "outputId": "0b55add6-cfcf-4555-db1e-55ecfdc61ab4"
      },
      "source": [
        "df = param_sweep.get_model_vars_dataframe()\n",
        "plt.scatter(df.cooperative, df.Gini)\n",
        "plt.grid(True)"
      ],
      "execution_count": null,
      "outputs": [
        {
          "output_type": "display_data",
          "data": {
            "image/png": "[encoded data removed]",
            "text/plain": [
              "<Figure size 432x288 with 1 Axes>"
            ]
          },
          "metadata": {
            "tags": [],
            "needs_background": "light"
          }
        }
      ]
    },
    {
      "cell_type": "markdown",
      "metadata": {
        "id": "U4MlewYmfN58"
      },
      "source": [
        "## Vary the amount of cells."
      ]
    },
    {
      "cell_type": "code",
      "metadata": {
        "id": "XPRG4cWLfN58",
        "outputId": "91c8f717-33ba-4d9b-de9c-015b8de8db11"
      },
      "source": [
        "from mesa.batchrunner import BatchRunner\n",
        "\n",
        "\n",
        "fixed_params = {\"height\": 20, \"width\": 20, \"N\": 50, \"buyers_proportion\": 0.5} \n",
        "variable_parms = {\"cooperative\": np.linspace(0,1,10), \n",
        "                  #\"initial_wallet\": range(1,5),\n",
        "                  #\"speed_spread\": np.linspace(0,1,2),\n",
        "                  #\"buyers_proportion\": np.linspace(0.1,0.5,10)\n",
        "                 }\n",
        "\n",
        "model_reporters = {\"Totinformed\": compute_informed,\n",
        "                              \"Gini\": compute_gini,\n",
        "                              \"Wealth\": compute_wealth,\n",
        "                              \"Utility\": compute_utility,\n",
        "                              \"Lemons\": compute_lemons,\n",
        "                              \"Cars\": compute_cars}\n",
        "\n",
        "param_sweep = BatchRunner(News_Model,\n",
        "                          variable_parameters=variable_parms, fixed_parameters=fixed_params,\n",
        "                          iterations=10, \n",
        "                          max_steps=200,\n",
        "                          model_reporters=model_reporters)\n",
        "\n",
        "param_sweep.run_all()"
      ],
      "execution_count": null,
      "outputs": [
        {
          "output_type": "stream",
          "text": [
            "100it [01:07,  1.49it/s]\n"
          ],
          "name": "stderr"
        }
      ]
    },
    {
      "cell_type": "code",
      "metadata": {
        "id": "pnUkvJoPfN58",
        "outputId": "8cb93aa6-3630-4b60-d22a-ad07a97e70ca"
      },
      "source": [
        "df = param_sweep.get_model_vars_dataframe()\n",
        "plt.scatter(df.cooperative, df.Gini)\n",
        "plt.grid(True)"
      ],
      "execution_count": null,
      "outputs": [
        {
          "output_type": "display_data",
          "data": {
            "image/png": "[encoded data removed]",
            "text/plain": [
              "<Figure size 432x288 with 1 Axes>"
            ]
          },
          "metadata": {
            "tags": [],
            "needs_background": "light"
          }
        }
      ]
    },
    {
      "cell_type": "code",
      "metadata": {
        "id": "ePIvAlIzfN59",
        "outputId": "f4a8522d-a7ea-4c4c-d7a7-4026494a131c"
      },
      "source": [
        "df = param_sweep.get_model_vars_dataframe()\n",
        "plt.scatter(df.Wealth, df.Totinformed)\n",
        "plt.grid(True)"
      ],
      "execution_count": null,
      "outputs": [
        {
          "output_type": "display_data",
          "data": {
            "image/png": "[encoded data removed]",
            "text/plain": [
              "<Figure size 432x288 with 1 Axes>"
            ]
          },
          "metadata": {
            "tags": [],
            "needs_background": "light"
          }
        }
      ]
    },
    {
      "cell_type": "markdown",
      "metadata": {
        "id": "1BEfWL3KfN59"
      },
      "source": [
        "# Discussion and conclusion (0.5 points)\n"
      ]
    },
    {
      "cell_type": "markdown",
      "metadata": {
        "deletable": false,
        "nbgrader": {
          "checksum": "52e1cf5783dd1971d265a8ea172e297a",
          "grade": true,
          "grade_id": "cell-4b5c9f698b295ad7",
          "locked": false,
          "points": 0.5,
          "schema_version": 1,
          "solution": true
        },
        "id": "hqpwGhHofN59"
      },
      "source": [
        "The model presented is a simple model but allows to observe complex relationships between information and inequality in zero-sum economies. The main takeaway of this project is the ability of building complex systems out of simple rules. Out of it, we could observe how the effect of informed individuals in the economy may be disturbing if the information does flow enough. So disturbing that we would prefer agents to behave randomly rather than to take informed actions. However, drawing conclusions out of models like this one need for more robustness checks and contrast against the data. Still, it is a cheap experimental starting point, that allows researchers to test initial hypothesis and spot new ones.\n",
        " \n",
        "In future research, the economy proposed can be enhanced with more type of agents and adding tax authorities that control for the inequality in every step. Also, the agents can be defined with Reinforcement Learning algorithms as proposed by the Salesforce team in its paper the AI Economist, so that they learn given an objective option. Indeed this might arise to interesting dynamics as no trade instead of random trading. An interesting addition would be to merge this information model with the segregation model by Schelling, to understand if maybe wealthy indviduals might only interact among themselves creating positive chambers of eco."
      ]
    },
    {
      "cell_type": "markdown",
      "metadata": {
        "id": "CX0mGhF-uO-j"
      },
      "source": [
        "References\r\n",
        "Akerlof, G. (1970). The Market for \"Lemons\": Quality Uncertainty and the Market Mechanism. The Quarterly Journal Of Economics, 84(3), 488. doi: 10.2307/1879431\r\n",
        "\r\n",
        "Eaton, B., & Schelling, T. (1981). Micromotives and Macrobehavior. The Canadian Journal Of Economics, 14(2), 369. doi: 10.2307/134812\r\n",
        "\r\n",
        "Project Mesa. (2021). Retrieved 29 January 2021, from https://github.com/projectmesa\r\n",
        "\r\n",
        "S. Zheng, A. Trott, S. Srinivasa, N. Naik, M. Gruesbeck, D.C. Parkes, R. Socher\r\n",
        "The AI Economist: Improving Equality and Productivity with AI-Driven Tax Policies (2020) arXiv preprint arXiv:2004.13332\r\n",
        "\r\n",
        "\r\n"
      ]
    }
  ]
}
